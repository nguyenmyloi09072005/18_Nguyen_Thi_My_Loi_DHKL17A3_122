{
 "cells": [
  {
   "cell_type": "code",
   "execution_count": null,
   "metadata": {},
   "outputs": [],
   "source": [
    "import json\n",
    "\n",
    "#Viết một hàm ktra một đối tượng có phải là số phức không?\n",
    "def complex_encode(object):\n",
    "    if isinstance(object, complex):\n",
    "        return [object.real, object.imag]\n",
    "    # KÍch hoạt lỗi sử dụng exception handling, nếu object kp là số phức\n",
    "    raise TypeError(repr(object) + \"is NOT JSON serialized\")\n",
    "\n",
    "data = 5+3j\n",
    "#Sử dụng hàm json.dumps() để mã hóa số phức 5+3j thành chuỗi Json\n",
    "#     \n"
   ]
  },
  {
   "cell_type": "code",
   "execution_count": null,
   "metadata": {},
   "outputs": [],
   "source": [
    "import json\n",
    "\n",
    "#Viết hàm ktra chuỗi Json có chứa đối tượng phức (complex object ) l\\không?\n",
    "def is_complex(object):\n",
    "    if '__complex__' in object:\n",
    "        #Nếu có,tạo một số phức từ thông tin của đối tượng\n",
    "        return complex(object['real'], object['img'])\n",
    "    #Nếu không có khóa '__complex__'tức là đối tượng không phải là đối tượng phức thì \n",
    "    #trả về đối tượng gốc\n",
    "    "
   ]
  },
  {
   "cell_type": "markdown",
   "metadata": {},
   "source": [
    "#### ví dụ 2.2.2.4, Mã hóa 5+3j"
   ]
  }
 ],
 "metadata": {
  "language_info": {
   "name": "python"
  }
 },
 "nbformat": 4,
 "nbformat_minor": 2
}
