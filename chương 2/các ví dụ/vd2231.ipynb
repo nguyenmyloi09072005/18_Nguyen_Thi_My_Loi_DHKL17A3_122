{
 "cells": [
  {
   "cell_type": "markdown",
   "metadata": {},
   "source": [
    "# Ví dụ 2231a\n"
   ]
  },
  {
   "cell_type": "code",
   "execution_count": 1,
   "metadata": {},
   "outputs": [
    {
     "name": "stdout",
     "output_type": "stream",
     "text": [
      "{\"custom_data\": {\"key\": \"value\"}}\n"
     ]
    }
   ],
   "source": [
    "import json\n",
    "# Định nghĩa một lớp đối tượng tùy chỉnh\n",
    "class CustomObject:\n",
    "    def __init__(self, data):\n",
    "        self.data = data\n",
    "    def to_dict(self):\n",
    "        return {\"custom_data\":self.data}\n",
    "#Tạo một lớp JSONEncoder tùy chỉnh để xử lý đối tượng CustomObject\n",
    "class CustomObjectEncoder(json.JSONEncoder):\n",
    "    def default(self, obj):\n",
    "        if isinstance(obj, CustomObject):\n",
    "            return obj.to_dict()\n",
    "        return super().default(obj)\n",
    "#Tạo ra một đối tượng CustomObject\n",
    "custom_obj = CustomObject({'key':'value'})\n",
    "\n",
    "# Sử dụng JSONEcoder tùy chỉnh để mã hóa đối tượng CustomObject\n",
    "json_data = json.dumps(custom_obj, cls = CustomObjectEncoder)\n",
    "\n",
    "print(json_data)"
   ]
  }
 ],
 "metadata": {
  "kernelspec": {
   "display_name": "Python 3",
   "language": "python",
   "name": "python3"
  },
  "language_info": {
   "codemirror_mode": {
    "name": "ipython",
    "version": 3
   },
   "file_extension": ".py",
   "mimetype": "text/x-python",
   "name": "python",
   "nbconvert_exporter": "python",
   "pygments_lexer": "ipython3",
   "version": "3.10.10"
  }
 },
 "nbformat": 4,
 "nbformat_minor": 2
}
