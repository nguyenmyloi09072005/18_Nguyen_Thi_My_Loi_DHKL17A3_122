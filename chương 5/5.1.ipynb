{
 "cells": [
  {
   "cell_type": "code",
   "execution_count": 14,
   "metadata": {},
   "outputs": [
    {
     "name": "stdout",
     "output_type": "stream",
     "text": [
      "(None, 'Nguyễn Văn A', 30)\n",
      "(None, 'Nguyễn Văn A', 30)\n",
      "(None, 'Nguyễn Văn A', 30)\n",
      "(None, 'Nguyễn Văn A', 30)\n",
      "(None, 'Nguyễn Văn A', 30)\n",
      "(None, 'Nguyễn Thị Mỹ Lợi', 18)\n",
      "(None, 'Nguyễn Văn A', 30)\n"
     ]
    }
   ],
   "source": [
    "import sqlite3\n",
    "conn = sqlite3.connect('mydatabase.db')\n",
    "cursor = conn.cursor()\n",
    "cursor.execute('''\n",
    "CREATE TABLE IF NOT EXISTS users (\n",
    "id INTEGER PRIMARY KEY,\n",
    "\"Tên\" TEXT,\n",
    "\"Tuổi\" INTEGER\n",
    ")\n",
    "''')\n",
    "cursor.execute('''\n",
    "INSERT INTO users (\"Tên\", \"Tuổi\")\n",
    "VALUES (\"Nguyễn Văn A\", 30)\n",
    "''')\n",
    "conn.commit()\n",
    "cursor.execute(\"SELECT * FROM users\")\n",
    "rows = cursor.fetchall()\n",
    "for row in rows:\n",
    "    print(row)\n",
    "cursor.close()\n",
    "conn.close()"
   ]
  },
  {
   "cell_type": "code",
   "execution_count": 12,
   "metadata": {},
   "outputs": [
    {
     "name": "stdout",
     "output_type": "stream",
     "text": [
      "Tổng số dòng được cập nhật : 0\n",
      "(None, 'Nguyễn Văn A', 30)\n",
      "(None, 'Nguyễn Văn A', 30)\n",
      "(None, 'Nguyễn Văn A', 30)\n",
      "(None, 'Nguyễn Văn A', 30)\n",
      "(None, 'Nguyễn Văn A', 30)\n"
     ]
    }
   ],
   "source": [
    "import sqlite3\n",
    "conn = sqlite3.connect('mydatabase.db')\n",
    "conn.execute(\"UPDATE users SET 'Tên' = 'Nguyễn Vân Anh' where id='1'\")\n",
    "conn.commit()\n",
    "print(\"Tổng số dòng được cập nhật :\", conn.total_changes)\n",
    "cursor = conn.execute(\"SELECT * FROM users\")\n",
    "for row in cursor:\n",
    "    print(row)\n",
    "conn.close() \n"
   ]
  },
  {
   "cell_type": "code",
   "execution_count": null,
   "metadata": {},
   "outputs": [
    {
     "name": "stdout",
     "output_type": "stream",
     "text": [
      "(None, 'Nguyễn Văn A', 30)\n",
      "(None, 'Nguyễn Văn A', 30)\n",
      "(None, 'Nguyễn Văn A', 30)\n",
      "(None, 'Nguyễn Văn A', 30)\n",
      "(None, 'Nguyễn Văn A', 30)\n",
      "(None, 'Nguyễn Thị Mỹ Lợi', 18)\n"
     ]
    }
   ],
   "source": [
    "import sqlite3\n",
    "conn = sqlite3.connect('mydatabase.db')\n",
    "cursor = conn.cursor()\n",
    "name = input(\"Nhập tên người dùng: \")\n",
    "age = int(input(\"Nhập tuổi người dùng: \"))\n",
    "cursor.execute('INSERT INTO users (\"Tên\", \"Tuổi\") VALUES (?, ?)',\n",
    "(name, age))\n",
    "conn.commit()\n",
    "cursor = conn.execute(\"SELECT * FROM users\")\n",
    "for row in cursor:\n",
    "    print(row)\n",
    "# Đóng kết nối\n",
    "conn.close()"
   ]
  },
  {
   "cell_type": "code",
   "execution_count": 24,
   "metadata": {},
   "outputs": [
    {
     "name": "stdout",
     "output_type": "stream",
     "text": [
      "(None, 'Nguyễn Văn A', 30)\n",
      "(None, 'Nguyễn Văn A', 30)\n",
      "(None, 'Nguyễn Văn A', 30)\n",
      "(None, 'Nguyễn Văn A', 30)\n",
      "(None, 'Nguyễn Văn A', 30)\n",
      "(None, 'Nguyễn Thị Mỹ Lợi', 18)\n",
      "(None, 'Nguyễn Văn A', 30)\n"
     ]
    },
    {
     "data": {
      "image/png": "[encoded data removed]",
      "text/plain": [
       "<Figure size 640x480 with 1 Axes>"
      ]
     },
     "metadata": {},
     "output_type": "display_data"
    }
   ],
   "source": [
    "import sqlite3\n",
    "import matplotlib.pyplot as plt\n",
    "# Kết nối đến cơ sở dữ liệu\n",
    "conn = sqlite3.connect('mydatabase.db')\n",
    "cursor = conn.cursor()\n",
    "# Truy vấn dữ liệu từ cơ sở dữ liệu\n",
    "cursor.execute('SELECT \"Tên\", \"Tuổi\" FROM users')\n",
    "rows = cursor.fetchall()\n",
    "# Tách dữ liệu thành hai danh sách riêng biệt cho tên và tuổi\n",
    "Tên = [row[0] for row in rows]\n",
    "Tuổi = [row[1] for row in rows]\n",
    "#In ra các dòng trong bảng sau khi cập nhật\n",
    "cursor = conn.execute(\"SELECT * FROM users\")\n",
    "for row in cursor:\n",
    "    print(row)\n",
    "# Đóng kết nối\n",
    "conn.close()\n",
    "# Vẽ biểu đồ cột\n",
    "plt.bar(Tên, Tuổi)\n",
    "plt.xlabel('Tên')\n",
    "plt.ylabel('Tuổi')\n",
    "plt.title('Biểu đồ tuổi của người dùng')\n",
    "plt.show()"
   ]
  },
  {
   "cell_type": "code",
   "execution_count": 21,
   "metadata": {},
   "outputs": [
    {
     "data": {
      "text/plain": [
       "[(None, 'Nguyễn Văn A', 30),\n",
       " (None, 'Nguyễn Văn A', 30),\n",
       " (None, 'Nguyễn Văn A', 30),\n",
       " (None, 'Nguyễn Văn A', 30),\n",
       " (None, 'Nguyễn Văn A', 30),\n",
       " (None, 'Nguyễn Thị Mỹ Lợi', 18),\n",
       " (None, 'Nguyễn Văn A', 30)]"
      ]
     },
     "execution_count": 21,
     "metadata": {},
     "output_type": "execute_result"
    }
   ],
   "source": [
    "rows"
   ]
  },
  {
   "cell_type": "code",
   "execution_count": 33,
   "metadata": {},
   "outputs": [
    {
     "ename": "OperationalError",
     "evalue": "no such table: sales",
     "output_type": "error",
     "traceback": [
      "\u001b[1;31m---------------------------------------------------------------------------\u001b[0m",
      "\u001b[1;31mOperationalError\u001b[0m                          Traceback (most recent call last)",
      "Cell \u001b[1;32mIn[33], line 5\u001b[0m\n\u001b[0;32m      3\u001b[0m conn \u001b[38;5;241m=\u001b[39m sqlite3\u001b[38;5;241m.\u001b[39mconnect(\u001b[38;5;124m'\u001b[39m\u001b[38;5;124msales.db\u001b[39m\u001b[38;5;124m'\u001b[39m)\n\u001b[0;32m      4\u001b[0m cursor \u001b[38;5;241m=\u001b[39m conn\u001b[38;5;241m.\u001b[39mcursor()\n\u001b[1;32m----> 5\u001b[0m \u001b[43mcursor\u001b[49m\u001b[38;5;241;43m.\u001b[39;49m\u001b[43mexecute\u001b[49m\u001b[43m(\u001b[49m\u001b[38;5;124;43m'\u001b[39;49m\u001b[38;5;124;43mSELECT \u001b[39;49m\u001b[38;5;124;43m\"\u001b[39;49m\u001b[38;5;124;43myear\u001b[39;49m\u001b[38;5;124;43m\"\u001b[39;49m\u001b[38;5;124;43m, revenue FROM \u001b[39;49m\u001b[38;5;124;43m\"\u001b[39;49m\u001b[38;5;124;43msales\u001b[39;49m\u001b[38;5;124;43m\"\u001b[39;49m\u001b[38;5;124;43m'\u001b[39;49m\u001b[43m)\u001b[49m\n\u001b[0;32m      6\u001b[0m rows \u001b[38;5;241m=\u001b[39m cursor\u001b[38;5;241m.\u001b[39mfetchall()\n\u001b[0;32m      7\u001b[0m years \u001b[38;5;241m=\u001b[39m [row[\u001b[38;5;241m0\u001b[39m] \u001b[38;5;28;01mfor\u001b[39;00m row \u001b[38;5;129;01min\u001b[39;00m rows]\n",
      "\u001b[1;31mOperationalError\u001b[0m: no such table: sales"
     ]
    }
   ],
   "source": [
    "import sqlite3\n",
    "import matplotlib.pyplot as plt\n",
    "conn = sqlite3.connect('sales.db')\n",
    "cursor = conn.cursor()\n",
    "cursor.execute('SELECT \"year\", revenue FROM \"sales\"')\n",
    "rows = cursor.fetchall()\n",
    "years = [row[0] for row in rows]\n",
    "revenues = [row[1] for row in rows]\n",
    "conn.close()\n",
    "plt.plot(years, revenues, marker='o', linestyle='-')\n",
    "plt.xlabel('Các năm')\n",
    "plt.ylabel('Doanh thu (đơn vị: tỷ đồng)')\n",
    "plt.title('Biểu đồ biểu diễn doanh thu theo năm')\n",
    "plt.legend(['Doanh thu theo năm']) \n",
    "plt.grid(True) \n",
    "plt.show()"
   ]
  }
 ],
 "metadata": {
  "kernelspec": {
   "display_name": "Python 3",
   "language": "python",
   "name": "python3"
  },
  "language_info": {
   "codemirror_mode": {
    "name": "ipython",
    "version": 3
   },
   "file_extension": ".py",
   "mimetype": "text/x-python",
   "name": "python",
   "nbconvert_exporter": "python",
   "pygments_lexer": "ipython3",
   "version": "3.10.10"
  }
 },
 "nbformat": 4,
 "nbformat_minor": 2
}
