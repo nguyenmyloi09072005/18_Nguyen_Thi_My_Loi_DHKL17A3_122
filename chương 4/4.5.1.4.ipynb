{
 "cells": [
  {
   "cell_type": "code",
   "execution_count": 2,
   "metadata": {},
   "outputs": [
    {
     "name": "stdout",
     "output_type": "stream",
     "text": [
      "Adf:\n",
      "    A  B\n",
      "0  6  1\n",
      "1  7  1\n",
      "Bdf:\n",
      "    B  A  C\n",
      "0  2  2  0\n",
      "1  2  5  0\n",
      "2  7  7  4\n",
      "\n",
      "Adf+Bdf: \n",
      "       A    B   C\n",
      "0   8.0  3.0 NaN\n",
      "1  12.0  3.0 NaN\n",
      "2   NaN  NaN NaN\n"
     ]
    }
   ],
   "source": [
    "import pandas as pd\n",
    "import numpy as np\n",
    "Adf=pd.DataFrame(np.random.randint(0,10,(2,2)), columns=['A','B'])\n",
    "Bdf=pd.DataFrame(np.random.randint(0,10,(3,3)),columns=['B','A','C'])\n",
    "print(\"Adf:\\n\",Adf)\n",
    "print(\"Bdf:\\n\",Bdf)\n",
    "print(\"\\nAdf+Bdf: \\n\", Adf+Bdf)"
   ]
  },
  {
   "cell_type": "code",
   "execution_count": null,
   "metadata": {},
   "outputs": [],
   "source": [
    "print(\"Adf+Bdf\")"
   ]
  }
 ],
 "metadata": {
  "kernelspec": {
   "display_name": "Python 3",
   "language": "python",
   "name": "python3"
  },
  "language_info": {
   "codemirror_mode": {
    "name": "ipython",
    "version": 3
   },
   "file_extension": ".py",
   "mimetype": "text/x-python",
   "name": "python",
   "nbconvert_exporter": "python",
   "pygments_lexer": "ipython3",
   "version": "3.10.10"
  }
 },
 "nbformat": 4,
 "nbformat_minor": 2
}
