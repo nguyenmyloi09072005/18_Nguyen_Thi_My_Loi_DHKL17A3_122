{
 "cells": [
  {
   "cell_type": "code",
   "execution_count": 7,
   "metadata": {},
   "outputs": [
    {
     "data": {
      "text/plain": [
       "(Hà Nội, 2015)         7216000\n",
       "(Hà Nội, 2020)         8246540\n",
       "(Nam Định, 2015)       1850600\n",
       "(Nam Định, 2020)       1780330\n",
       "(Thanh Hóa, 2015)      3514200\n",
       "(Thanh Hóa, 2020)      3664940\n",
       "(Đà Nẵng, 2015)        1028800\n",
       "(Đà Nẵng, 2020)        1169480\n",
       "(Hồ Chí Minh, 2015)    8146300\n",
       "(Hồ Chí Minh, 2020)    9227600\n",
       "dtype: int64"
      ]
     },
     "execution_count": 7,
     "metadata": {},
     "output_type": "execute_result"
    }
   ],
   "source": [
    "import pandas as pd\n",
    "#Tuples đại diện cho tỉnh thành phố - Năm tương ứng\n",
    "index=[('Hà Nội',2015),('Hà Nội',2020),\n",
    " ('Nam Định',2015),('Nam Định',2020),\n",
    " ('Thanh Hóa',2015),('Thanh Hóa',2020),\n",
    " ('Đà Nẵng',2015),('Đà Nẵng',2020),\n",
    " ('Hồ Chí Minh',2015),('Hồ Chí Minh',2020)]\n",
    "data=[ 7216000, 8246540,\n",
    " 1850600, 1780330,\n",
    " 3514200, 3664940,\n",
    " 1028800, 1169480,\n",
    " 8146300, 9227600]\n",
    "vn_pop = pd.Series(data, index=index)\n",
    "vn_pop"
   ]
  },
  {
   "cell_type": "code",
   "execution_count": 8,
   "metadata": {},
   "outputs": [
    {
     "data": {
      "text/plain": [
       "(Hà Nội, 2015)      7216000\n",
       "(Hà Nội, 2020)      8246540\n",
       "(Nam Định, 2015)    1850600\n",
       "dtype: int64"
      ]
     },
     "execution_count": 8,
     "metadata": {},
     "output_type": "execute_result"
    }
   ],
   "source": [
    "vn_pop[('Hà Nội',2015):('Nam Định',2015)]"
   ]
  },
  {
   "cell_type": "code",
   "execution_count": 9,
   "metadata": {},
   "outputs": [
    {
     "data": {
      "text/plain": [
       "(Hà Nội, 2020)         8246540\n",
       "(Nam Định, 2020)       1780330\n",
       "(Thanh Hóa, 2020)      3664940\n",
       "(Đà Nẵng, 2020)        1169480\n",
       "(Hồ Chí Minh, 2020)    9227600\n",
       "dtype: int64"
      ]
     },
     "execution_count": 9,
     "metadata": {},
     "output_type": "execute_result"
    }
   ],
   "source": [
    "vn_pop[[i for i in vn_pop.index if i[1]==2020]]"
   ]
  },
  {
   "cell_type": "code",
   "execution_count": 10,
   "metadata": {},
   "outputs": [
    {
     "data": {
      "text/plain": [
       "MultiIndex([(     'Hà Nội', 2015),\n",
       "            (     'Hà Nội', 2020),\n",
       "            (   'Nam Định', 2015),\n",
       "            (   'Nam Định', 2020),\n",
       "            (  'Thanh Hóa', 2015),\n",
       "            (  'Thanh Hóa', 2020),\n",
       "            (    'Đà Nẵng', 2015),\n",
       "            (    'Đà Nẵng', 2020),\n",
       "            ('Hồ Chí Minh', 2015),\n",
       "            ('Hồ Chí Minh', 2020)],\n",
       "           names=['Tỉnh/TP', 'Năm'])"
      ]
     },
     "execution_count": 10,
     "metadata": {},
     "output_type": "execute_result"
    }
   ],
   "source": [
    "idx=pd.MultiIndex.from_tuples(index,\n",
    "names=['Tỉnh/TP','Năm'])\n",
    "idx"
   ]
  },
  {
   "cell_type": "code",
   "execution_count": 11,
   "metadata": {},
   "outputs": [
    {
     "data": {
      "text/plain": [
       "Tỉnh/TP      Năm \n",
       "Hà Nội       2015    7216000\n",
       "             2020    8246540\n",
       "Nam Định     2015    1850600\n",
       "             2020    1780330\n",
       "Thanh Hóa    2015    3514200\n",
       "             2020    3664940\n",
       "Đà Nẵng      2015    1028800\n",
       "             2020    1169480\n",
       "Hồ Chí Minh  2015    8146300\n",
       "             2020    9227600\n",
       "dtype: int64"
      ]
     },
     "execution_count": 11,
     "metadata": {},
     "output_type": "execute_result"
    }
   ],
   "source": [
    "vn_pop = vn_pop.reindex(idx)\n",
    "vn_pop"
   ]
  },
  {
   "cell_type": "code",
   "execution_count": 12,
   "metadata": {},
   "outputs": [
    {
     "data": {
      "text/plain": [
       "Tỉnh/TP\n",
       "Hà Nội         8246540\n",
       "Nam Định       1780330\n",
       "Thanh Hóa      3664940\n",
       "Đà Nẵng        1169480\n",
       "Hồ Chí Minh    9227600\n",
       "dtype: int64"
      ]
     },
     "execution_count": 12,
     "metadata": {},
     "output_type": "execute_result"
    }
   ],
   "source": [
    "vn_pop[:,2020]"
   ]
  },
  {
   "cell_type": "code",
   "execution_count": 13,
   "metadata": {},
   "outputs": [
    {
     "name": "stdout",
     "output_type": "stream",
     "text": [
      "Tỉnh/TP      Năm \n",
      "Hà Nội       2015    7216000\n",
      "             2020    8246540\n",
      "Nam Định     2015    1850600\n",
      "             2020    1780330\n",
      "Thanh Hóa    2015    3514200\n",
      "             2020    3664940\n",
      "Đà Nẵng      2015    1028800\n",
      "             2020    1169480\n",
      "Hồ Chí Minh  2015    8146300\n",
      "             2020    9227600\n",
      "dtype: int64 \n",
      "\n"
     ]
    },
    {
     "data": {
      "text/html": [
       "<div>\n",
       "<style scoped>\n",
       "    .dataframe tbody tr th:only-of-type {\n",
       "        vertical-align: middle;\n",
       "    }\n",
       "\n",
       "    .dataframe tbody tr th {\n",
       "        vertical-align: top;\n",
       "    }\n",
       "\n",
       "    .dataframe thead th {\n",
       "        text-align: right;\n",
       "    }\n",
       "</style>\n",
       "<table border=\"1\" class=\"dataframe\">\n",
       "  <thead>\n",
       "    <tr style=\"text-align: right;\">\n",
       "      <th>Năm</th>\n",
       "      <th>2015</th>\n",
       "      <th>2020</th>\n",
       "    </tr>\n",
       "    <tr>\n",
       "      <th>Tỉnh/TP</th>\n",
       "      <th></th>\n",
       "      <th></th>\n",
       "    </tr>\n",
       "  </thead>\n",
       "  <tbody>\n",
       "    <tr>\n",
       "      <th>Hà Nội</th>\n",
       "      <td>7216000</td>\n",
       "      <td>8246540</td>\n",
       "    </tr>\n",
       "    <tr>\n",
       "      <th>Hồ Chí Minh</th>\n",
       "      <td>8146300</td>\n",
       "      <td>9227600</td>\n",
       "    </tr>\n",
       "    <tr>\n",
       "      <th>Nam Định</th>\n",
       "      <td>1850600</td>\n",
       "      <td>1780330</td>\n",
       "    </tr>\n",
       "    <tr>\n",
       "      <th>Thanh Hóa</th>\n",
       "      <td>3514200</td>\n",
       "      <td>3664940</td>\n",
       "    </tr>\n",
       "    <tr>\n",
       "      <th>Đà Nẵng</th>\n",
       "      <td>1028800</td>\n",
       "      <td>1169480</td>\n",
       "    </tr>\n",
       "  </tbody>\n",
       "</table>\n",
       "</div>"
      ],
      "text/plain": [
       "Năm             2015     2020\n",
       "Tỉnh/TP                      \n",
       "Hà Nội       7216000  8246540\n",
       "Hồ Chí Minh  8146300  9227600\n",
       "Nam Định     1850600  1780330\n",
       "Thanh Hóa    3514200  3664940\n",
       "Đà Nẵng      1028800  1169480"
      ]
     },
     "execution_count": 13,
     "metadata": {},
     "output_type": "execute_result"
    }
   ],
   "source": [
    "print(vn_pop,'\\n')\n",
    "vn_pop_df = vn_pop.unstack()\n",
    "vn_pop_df"
   ]
  },
  {
   "cell_type": "code",
   "execution_count": 14,
   "metadata": {},
   "outputs": [
    {
     "data": {
      "text/plain": [
       "Tỉnh/TP      Năm \n",
       "Hà Nội       2015    7216000\n",
       "             2020    8246540\n",
       "Hồ Chí Minh  2015    8146300\n",
       "             2020    9227600\n",
       "Nam Định     2015    1850600\n",
       "             2020    1780330\n",
       "Thanh Hóa    2015    3514200\n",
       "             2020    3664940\n",
       "Đà Nẵng      2015    1028800\n",
       "             2020    1169480\n",
       "dtype: int64"
      ]
     },
     "execution_count": 14,
     "metadata": {},
     "output_type": "execute_result"
    }
   ],
   "source": [
    "vn_pop_df.stack()"
   ]
  },
  {
   "cell_type": "code",
   "execution_count": null,
   "metadata": {},
   "outputs": [],
   "source": []
  }
 ],
 "metadata": {
  "kernelspec": {
   "display_name": "Python 3",
   "language": "python",
   "name": "python3"
  },
  "language_info": {
   "codemirror_mode": {
    "name": "ipython",
    "version": 3
   },
   "file_extension": ".py",
   "mimetype": "text/x-python",
   "name": "python",
   "nbconvert_exporter": "python",
   "pygments_lexer": "ipython3",
   "version": "3.10.10"
  }
 },
 "nbformat": 4,
 "nbformat_minor": 2
}
