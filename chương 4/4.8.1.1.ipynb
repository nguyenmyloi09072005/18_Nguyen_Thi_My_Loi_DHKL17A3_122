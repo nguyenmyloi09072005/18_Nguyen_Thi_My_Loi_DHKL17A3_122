{
 "cells": [
  {
   "cell_type": "code",
   "execution_count": 2,
   "metadata": {},
   "outputs": [
    {
     "name": "stdout",
     "output_type": "stream",
     "text": [
      "df: \n",
      "   key  giatri_1  giatri_2\n",
      "0   A        84         5\n",
      "1   B        75         9\n",
      "2   C        59         9\n",
      "3   A        23         3\n",
      "4   B        26         1\n",
      "5   C        24         0\n",
      "\n",
      "key:  A\n",
      "value: \n",
      "   key  giatri_1  giatri_2\n",
      "0   A        84         5\n",
      "3   A        23         3\n",
      "\n",
      "key:  B\n",
      "value: \n",
      "   key  giatri_1  giatri_2\n",
      "1   B        75         9\n",
      "4   B        26         1\n",
      "\n",
      "key:  C\n",
      "value: \n",
      "   key  giatri_1  giatri_2\n",
      "2   C        59         9\n",
      "5   C        24         0\n"
     ]
    }
   ],
   "source": [
    "import numpy as np\n",
    "import pandas as pd\n",
    "df = pd.DataFrame(\n",
    "    {\n",
    "        'key':['A','B','C','A','B','C'],\n",
    "        'giatri_1':np.random.randint(10,100,6),\n",
    "        'giatri_2':np.random.randint(0,10,6)\n",
    "    },\n",
    "    columns=['key','giatri_1','giatri_2']\n",
    ")\n",
    "print(\"df: \\n\",df)\n",
    "for key, giatri in df.groupby('key'):\n",
    "    print(\"\\nkey: \",key)\n",
    "    print(\"value: \\n\",giatri)"
   ]
  }
 ],
 "metadata": {
  "kernelspec": {
   "display_name": "Python 3",
   "language": "python",
   "name": "python3"
  },
  "language_info": {
   "codemirror_mode": {
    "name": "ipython",
    "version": 3
   },
   "file_extension": ".py",
   "mimetype": "text/x-python",
   "name": "python",
   "nbconvert_exporter": "python",
   "pygments_lexer": "ipython3",
   "version": "3.10.10"
  }
 },
 "nbformat": 4,
 "nbformat_minor": 2
}
