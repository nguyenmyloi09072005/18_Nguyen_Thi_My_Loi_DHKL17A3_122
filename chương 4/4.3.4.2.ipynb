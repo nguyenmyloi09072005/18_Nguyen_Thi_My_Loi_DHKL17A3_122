{
 "cells": [
  {
   "cell_type": "code",
   "execution_count": 4,
   "metadata": {},
   "outputs": [],
   "source": [
    "import pandas as pd\n",
    "indA=pd.Index([0,2,4,6,8])\n",
    "indB=pd.Index([1,3,7,8,9])"
   ]
  },
  {
   "cell_type": "code",
   "execution_count": 5,
   "metadata": {},
   "outputs": [
    {
     "name": "stdout",
     "output_type": "stream",
     "text": [
      "Index A: Index([0, 2, 4, 6, 8], dtype='int64')\n",
      "Index B: Index([1, 3, 7, 8, 9], dtype='int64')\n"
     ]
    }
   ],
   "source": [
    "print('Index A:',indA)\n",
    "print('Index B:',indB)"
   ]
  }
 ],
 "metadata": {
  "kernelspec": {
   "display_name": "Python 3",
   "language": "python",
   "name": "python3"
  },
  "language_info": {
   "codemirror_mode": {
    "name": "ipython",
    "version": 3
   },
   "file_extension": ".py",
   "mimetype": "text/x-python",
   "name": "python",
   "nbconvert_exporter": "python",
   "pygments_lexer": "ipython3",
   "version": "3.10.10"
  }
 },
 "nbformat": 4,
 "nbformat_minor": 2
}
