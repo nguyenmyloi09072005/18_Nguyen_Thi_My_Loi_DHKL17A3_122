{
 "cells": [
  {
   "cell_type": "markdown",
   "metadata": {},
   "source": [
    "Ví dụ 4.5.1.1\n"
   ]
  },
  {
   "cell_type": "code",
   "execution_count": 8,
   "metadata": {},
   "outputs": [],
   "source": [
    "import pandas as pd\n",
    "import numpy as np"
   ]
  },
  {
   "cell_type": "code",
   "execution_count": 9,
   "metadata": {},
   "outputs": [
    {
     "name": "stdout",
     "output_type": "stream",
     "text": [
      "arr1: [8 8 3 7]\n",
      "\n",
      " arr2:\n",
      " [[7 0 4 2]\n",
      " [5 2 2 2]\n",
      " [1 0 8 4]]\n"
     ]
    }
   ],
   "source": [
    "rng = np.random.RandomState(100)  #tạo mảng Numpy ngẫu nhiên Cố Định\n",
    "arr1=rng.randint(0,10,4)\n",
    "arr2=rng.randint(0,10,(3,4))\n",
    "print('arr1:',arr1)\n",
    "print('\\n arr2:\\n',arr2)"
   ]
  },
  {
   "cell_type": "code",
   "execution_count": 10,
   "metadata": {},
   "outputs": [
    {
     "name": "stdout",
     "output_type": "stream",
     "text": [
      "Series:\n",
      " 0    8\n",
      "1    8\n",
      "2    3\n",
      "3    7\n",
      "dtype: int32\n",
      "DataFrame:\n",
      "    A  B  C  D\n",
      "0  7  0  4  2\n",
      "1  5  2  2  2\n",
      "2  1  0  8  4\n"
     ]
    }
   ],
   "source": [
    "sr = pd.Series(arr1)\n",
    "df=pd.DataFrame(arr2,columns=['A','B','C','D'])\n",
    "print(\"Series:\\n\",sr)\n",
    "print(\"DataFrame:\\n\",df)"
   ]
  },
  {
   "cell_type": "code",
   "execution_count": 11,
   "metadata": {},
   "outputs": [
    {
     "data": {
      "text/plain": [
       "0    2980.957987\n",
       "1    2980.957987\n",
       "2      20.085537\n",
       "3    1096.633158\n",
       "dtype: float64"
      ]
     },
     "execution_count": 11,
     "metadata": {},
     "output_type": "execute_result"
    }
   ],
   "source": [
    "np.exp(sr)"
   ]
  },
  {
   "cell_type": "code",
   "execution_count": 12,
   "metadata": {},
   "outputs": [
    {
     "data": {
      "text/html": [
       "<div>\n",
       "<style scoped>\n",
       "    .dataframe tbody tr th:only-of-type {\n",
       "        vertical-align: middle;\n",
       "    }\n",
       "\n",
       "    .dataframe tbody tr th {\n",
       "        vertical-align: top;\n",
       "    }\n",
       "\n",
       "    .dataframe thead th {\n",
       "        text-align: right;\n",
       "    }\n",
       "</style>\n",
       "<table border=\"1\" class=\"dataframe\">\n",
       "  <thead>\n",
       "    <tr style=\"text-align: right;\">\n",
       "      <th></th>\n",
       "      <th>A</th>\n",
       "      <th>B</th>\n",
       "      <th>C</th>\n",
       "      <th>D</th>\n",
       "    </tr>\n",
       "  </thead>\n",
       "  <tbody>\n",
       "    <tr>\n",
       "      <th>0</th>\n",
       "      <td>-0.707107</td>\n",
       "      <td>0.0</td>\n",
       "      <td>1.224647e-16</td>\n",
       "      <td>1.000000e+00</td>\n",
       "    </tr>\n",
       "    <tr>\n",
       "      <th>1</th>\n",
       "      <td>-0.707107</td>\n",
       "      <td>1.0</td>\n",
       "      <td>1.000000e+00</td>\n",
       "      <td>1.000000e+00</td>\n",
       "    </tr>\n",
       "    <tr>\n",
       "      <th>2</th>\n",
       "      <td>0.707107</td>\n",
       "      <td>0.0</td>\n",
       "      <td>-2.449294e-16</td>\n",
       "      <td>1.224647e-16</td>\n",
       "    </tr>\n",
       "  </tbody>\n",
       "</table>\n",
       "</div>"
      ],
      "text/plain": [
       "          A    B             C             D\n",
       "0 -0.707107  0.0  1.224647e-16  1.000000e+00\n",
       "1 -0.707107  1.0  1.000000e+00  1.000000e+00\n",
       "2  0.707107  0.0 -2.449294e-16  1.224647e-16"
      ]
     },
     "execution_count": 12,
     "metadata": {},
     "output_type": "execute_result"
    }
   ],
   "source": [
    "np.sin(df*np.pi/4)"
   ]
  },
  {
   "cell_type": "markdown",
   "metadata": {},
   "source": [
    "Ví dụ 4.5.1.3\n"
   ]
  },
  {
   "cell_type": "code",
   "execution_count": null,
   "metadata": {},
   "outputs": [],
   "source": [
    "# tạo 2 series A,B và tính tổng các giá trị\n",
    "A=pd.Series([1,3,5],index=[0,1,2])\n",
    "B=pd.Series([2,4,5],index=[1,2,3])\n",
    "\n"
   ]
  }
 ],
 "metadata": {
  "kernelspec": {
   "display_name": "Python 3",
   "language": "python",
   "name": "python3"
  },
  "language_info": {
   "codemirror_mode": {
    "name": "ipython",
    "version": 3
   },
   "file_extension": ".py",
   "mimetype": "text/x-python",
   "name": "python",
   "nbconvert_exporter": "python",
   "pygments_lexer": "ipython3",
   "version": "3.10.10"
  }
 },
 "nbformat": 4,
 "nbformat_minor": 2
}
