{
 "cells": [
  {
   "cell_type": "markdown",
   "metadata": {},
   "source": [
    "Câu 1\n"
   ]
  },
  {
   "cell_type": "code",
   "execution_count": 6,
   "metadata": {},
   "outputs": [
    {
     "name": "stdout",
     "output_type": "stream",
     "text": [
      "nhiệt độ trong tháng: [16.25 23.57 13.66 14.95 16.27 27.98 25.77 17.68 19.45 11.25 13.37 11.37\n",
      " 16.17 10.29 19.97 19.69 14.52 28.37 22.7  14.52 28.78 15.39 16.64 22.29\n",
      " 18.34 25.46 26.32 28.47 29.08 20.27]\n",
      "trung bình nhiệt độ trong tháng là: 19.627999999999997\n"
     ]
    }
   ],
   "source": [
    "import numpy as np\n",
    "#Tạo mảng mô phỏng dữ liệu nhiệt độ hàng ngày trong một tháng với số thực\n",
    "#Nhiệt độ trong khoảng từ 10.0 đến 30.0 độ C\n",
    "nhiet_do = np.round(np.random.uniform(10.0, 30.0, size = 30),2)\n",
    "print('nhiệt độ trong tháng:',nhiet_do)\n",
    "print('trung bình nhiệt độ trong tháng là:',np.mean(nhiet_do))\n"
   ]
  },
  {
   "cell_type": "markdown",
   "metadata": {},
   "source": [
    "Câu 2"
   ]
  },
  {
   "cell_type": "code",
   "execution_count": 7,
   "metadata": {},
   "outputs": [
    {
     "name": "stdout",
     "output_type": "stream",
     "text": [
      "Nhiệt độ ngày cao nhất trong tháng là : 29.08\n",
      "Ngày có nhiệt độ cao nhất là ngày thứ : 29\n"
     ]
    }
   ],
   "source": [
    "#Tìm nhiệt độ cao và nhiệt độ thấp nhất\n",
    "max_temp = np.max(nhiet_do)\n",
    "min_temp = np.min(nhiet_do)\n",
    "#Xác định ngày có nhiệt độ cao nhất và thấp nhất\n",
    "#chú ý: ngày được tính từ 1,không phải 0\n",
    "day_max_temp = np.argmax(nhiet_do) + 1\n",
    "day_min_temp = np.argmax(nhiet_do) + 1\n",
    "print(f'Nhiệt độ ngày cao nhất trong tháng là :',max_temp)\n",
    "print(f'Ngày có nhiệt độ cao nhất là ngày thứ :',day_max_temp)"
   ]
  },
  {
   "cell_type": "code",
   "execution_count": 8,
   "metadata": {},
   "outputs": [
    {
     "name": "stdout",
     "output_type": "stream",
     "text": [
      "Chênh lệch nhiệt độ cao nhất là: 14.260000000000002\n",
      "Ngày chênh lệch cao nhất là: 20\n"
     ]
    }
   ],
   "source": [
    "#Tạo mảng chứa nhiệt độ của ngày hôm trước (trừ ngày cuối cùng)\n",
    "ngay_truoc = nhiet_do[:-1]\n",
    "#Tạo mảng chứa nhiệt độ của ngày hôm sau (trừ ngày đầu tiên) của mảng nhiệt độ\n",
    "ngay_sau = nhiet_do[1:]\n",
    "#Tính toán sự chênh lệch nhiệt độ giữa ngày hôm sau và ngày hôm trước\n",
    "chenh_lech = ngay_sau - ngay_truoc\n",
    "# xác định ngày có sự chênh lệch nhiệt độ lớn nhất\n",
    "dff_max=np.argmax(np.abs(chenh_lech))+1\n",
    "max_chenh_lech = chenh_lech[dff_max-1]\n",
    "print(\"Chênh lệch nhiệt độ cao nhất là:\",max_chenh_lech)\n",
    "print(\"Ngày chênh lệch cao nhất là:\",dff_max)\n",
    "\n"
   ]
  },
  {
   "cell_type": "markdown",
   "metadata": {},
   "source": [
    "Câu 3\n"
   ]
  },
  {
   "cell_type": "code",
   "execution_count": 9,
   "metadata": {},
   "outputs": [
    {
     "data": {
      "text/plain": [
       "array([ 2,  6,  7, 18, 19, 21, 24, 26, 27, 28, 29, 30])"
      ]
     },
     "execution_count": 9,
     "metadata": {},
     "output_type": "execute_result"
    }
   ],
   "source": [
    "#kiểm tra điều kiện nhiệt độ cao hơn 20 độ C\n",
    "condition = nhiet_do > 20\n",
    "# sử dụng np.where để tìm chỉ số của các phần tử thỏa mãn điều kiện\n",
    "indices = np.where(condition)\n",
    "#lấy chỉ số đầu tiên (vì np.where trả về tuple)\n",
    "day_indices = indices[0]\n",
    "# Chỉnh chỉ số để phù hợp với đánh số ngày(bắt đầu từ 1 chứ không phải từ 0)\n",
    "day_above_20_separated = day_indices +1\n",
    "day_above_20_separated\n"
   ]
  },
  {
   "cell_type": "code",
   "execution_count": 10,
   "metadata": {},
   "outputs": [
    {
     "data": {
      "text/plain": [
       "(array([ 1,  5,  6, 17, 18, 20, 23, 25, 26, 27, 28, 29]),)"
      ]
     },
     "execution_count": 10,
     "metadata": {},
     "output_type": "execute_result"
    }
   ],
   "source": [
    "indices"
   ]
  }
 ],
 "metadata": {
  "kernelspec": {
   "display_name": "Python 3",
   "language": "python",
   "name": "python3"
  },
  "language_info": {
   "codemirror_mode": {
    "name": "ipython",
    "version": 3
   },
   "file_extension": ".py",
   "mimetype": "text/x-python",
   "name": "python",
   "nbconvert_exporter": "python",
   "pygments_lexer": "ipython3",
   "version": "3.10.10"
  }
 },
 "nbformat": 4,
 "nbformat_minor": 2
}
