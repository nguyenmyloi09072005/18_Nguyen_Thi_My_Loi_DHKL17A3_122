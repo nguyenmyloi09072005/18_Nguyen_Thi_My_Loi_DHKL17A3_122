{
 "cells": [
  {
   "cell_type": "code",
   "execution_count": 1,
   "metadata": {},
   "outputs": [
    {
     "data": {
      "text/plain": [
       "([94.0, 97.0, 114.0, 117.0, 117.0],\n",
       " ['Afternoon', 'Afternoon', 'Afternoon', 'Morning', 'Afternoon'])"
      ]
     },
     "execution_count": 1,
     "metadata": {},
     "output_type": "execute_result"
    }
   ],
   "source": [
    "path_1 = 'D:\\Python nâng cao\\DHkL17a3\\LAB2\\DATA\\DATA_Lab_2_Numpy\\efficiency.txt'\n",
    "path_2 = 'D:\\Python nâng cao\\DHkL17a3\\LAB2\\DATA\\DATA_Lab_2_Numpy\\shifts.txt'\n",
    "\n",
    "efficiency = []\n",
    "with open(path_1, 'r') as file:\n",
    "    for line in file:\n",
    "        efficiency.append(float(line.strip()))\n",
    "\n",
    "shifts = []\n",
    "with open(path_2, 'r') as file:\n",
    "    for line in file:\n",
    "        shifts.append((line.strip()))\n",
    "efficiency[:5] , shifts[:5]\n"
   ]
  },
  {
   "cell_type": "code",
   "execution_count": 2,
   "metadata": {},
   "outputs": [
    {
     "data": {
      "text/plain": [
       "dtype('<U9')"
      ]
     },
     "execution_count": 2,
     "metadata": {},
     "output_type": "execute_result"
    }
   ],
   "source": [
    "import numpy as np \n",
    "np_shifts = np.array(shifts)\n",
    "np_shifts.dtype"
   ]
  },
  {
   "cell_type": "code",
   "execution_count": 3,
   "metadata": {},
   "outputs": [
    {
     "data": {
      "text/plain": [
       "dtype('float64')"
      ]
     },
     "execution_count": 3,
     "metadata": {},
     "output_type": "execute_result"
    }
   ],
   "source": [
    "np_efficiency = np.array(efficiency)\n",
    "np_efficiency.dtype"
   ]
  },
  {
   "cell_type": "code",
   "execution_count": 4,
   "metadata": {},
   "outputs": [
    {
     "name": "stderr",
     "output_type": "stream",
     "text": [
      "c:\\Users\\Dell\\AppData\\Local\\Programs\\Python\\Python310\\lib\\site-packages\\numpy\\_core\\fromnumeric.py:3904: RuntimeWarning: Mean of empty slice.\n",
      "  return _methods._mean(a, axis=axis, dtype=dtype,\n",
      "c:\\Users\\Dell\\AppData\\Local\\Programs\\Python\\Python310\\lib\\site-packages\\numpy\\_core\\_methods.py:147: RuntimeWarning: invalid value encountered in scalar divide\n",
      "  ret = ret.dtype.type(ret / rcount)\n"
     ]
    },
    {
     "data": {
      "text/plain": [
       "np.float64(nan)"
      ]
     },
     "execution_count": 4,
     "metadata": {},
     "output_type": "execute_result"
    }
   ],
   "source": [
    "morning_mask = np_shifts == 'morning'\n",
    "\n",
    "hieu_suat_morning = np_efficiency[morning_mask]\n",
    "\n",
    "hieu_suat_tb_morning = np.mean(hieu_suat_morning)\n",
    "hieu_suat_tb_morning"
   ]
  },
  {
   "cell_type": "code",
   "execution_count": 5,
   "metadata": {},
   "outputs": [
    {
     "data": {
      "text/plain": [
       "np.float64(98.23)"
      ]
     },
     "execution_count": 5,
     "metadata": {},
     "output_type": "execute_result"
    }
   ],
   "source": [
    "non_morning = np_shifts != 'morning'\n",
    "\n",
    "hieu_suat_non_morning = np_efficiency[non_morning]\n",
    "\n",
    "hieu_suat_tb_non_morning = np.mean(hieu_suat_non_morning)\n",
    "hieu_suat_tb_non_morning"
   ]
  },
  {
   "cell_type": "code",
   "execution_count": 6,
   "metadata": {},
   "outputs": [
    {
     "data": {
      "text/plain": [
       "array([('Afternoon',  94.), ('Afternoon',  97.), ('Afternoon', 114.),\n",
       "       ('Morning', 117.), ('Afternoon', 117.)],\n",
       "      dtype=[('shifts', '<U10'), ('efficiency', '<f8')])"
      ]
     },
     "execution_count": 6,
     "metadata": {},
     "output_type": "execute_result"
    }
   ],
   "source": [
    "dtype = [('shifts','U10'),('efficiency',float)]\n",
    "\n",
    "workers = np.array(list(zip(shifts, efficiency)), dtype=dtype)\n",
    "workers[:5]"
   ]
  },
  {
   "cell_type": "code",
   "execution_count": 7,
   "metadata": {},
   "outputs": [
    {
     "name": "stdout",
     "output_type": "stream",
     "text": [
      "[('Afternoon', 50.) ('Morning', 50.) ('Night', 50.) ('Morning', 51.)\n",
      " ('Morning', 53.) ('Morning', 54.) ('Night', 55.) ('Night', 56.)\n",
      " ('Morning', 59.) ('Night', 59.)]\n",
      "Morning Afternoon\n"
     ]
    }
   ],
   "source": [
    "sorted_workers = np.sort(workers , order='efficiency')\n",
    "\n",
    "Hieu_suat_Max = sorted_workers[+1]['shifts']\n",
    "Hieu_suat_Min = sorted_workers[0]['shifts']\n",
    "\n",
    "print(sorted_workers[:10])\n",
    "print(Hieu_suat_Max , Hieu_suat_Min)\n"
   ]
  }
 ],
 "metadata": {
  "kernelspec": {
   "display_name": "Python 3",
   "language": "python",
   "name": "python3"
  },
  "language_info": {
   "codemirror_mode": {
    "name": "ipython",
    "version": 3
   },
   "file_extension": ".py",
   "mimetype": "text/x-python",
   "name": "python",
   "nbconvert_exporter": "python",
   "pygments_lexer": "ipython3",
   "version": "3.10.10"
  }
 },
 "nbformat": 4,
 "nbformat_minor": 2
}
